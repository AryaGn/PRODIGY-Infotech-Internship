{
 "cells": [
  {
   "cell_type": "code",
   "execution_count": 4,
   "id": "5ae3cd01-65d9-4bd3-90ba-77bd4c103582",
   "metadata": {},
   "outputs": [
    {
     "name": "stdout",
     "output_type": "stream",
     "text": [
      "Root: test_set\n",
      "Dirs: ['test_set']\n",
      "Files: []\n"
     ]
    }
   ],
   "source": [
    "import zipfile\n",
    "import os\n",
    "\n",
    "# Paths\n",
    "zip_path = \"test_set.zip\"  \n",
    "extract_path = \"test_set\"\n",
    "\n",
    "# Extract\n",
    "with zipfile.ZipFile(zip_path, 'r') as zip_ref:\n",
    "    zip_ref.extractall(extract_path)\n",
    "\n",
    "# Check structure\n",
    "for root, dirs, files in os.walk(extract_path):\n",
    "    print(f\"Root: {root}\")\n",
    "    print(f\"Dirs: {dirs}\")\n",
    "    print(f\"Files: {files[:5]}\")\n",
    "    break\n"
   ]
  },
  {
   "cell_type": "code",
   "execution_count": 8,
   "id": "8706f6f7-977b-4440-a6b6-841ad74939b4",
   "metadata": {},
   "outputs": [
    {
     "name": "stdout",
     "output_type": "stream",
     "text": [
      "✅ Loaded 2023 images.\n"
     ]
    }
   ],
   "source": [
    "correct_path = os.path.join(extract_path, 'test_set')\n",
    "\n",
    "IMAGE_SIZE = (64, 64)\n",
    "X = []\n",
    "y = []\n",
    "\n",
    "categories = ['cats', 'dogs']\n",
    "\n",
    "for label, category in enumerate(categories):\n",
    "    folder = os.path.join(correct_path, category)\n",
    "    for file in os.listdir(folder):\n",
    "        file_path = os.path.join(folder, file)\n",
    "        img = cv2.imread(file_path)\n",
    "        if img is not None:\n",
    "            img = cv2.resize(img, IMAGE_SIZE)\n",
    "            X.append(img.flatten())\n",
    "            y.append(label)\n",
    "\n",
    "X = np.array(X)\n",
    "y = np.array(y)\n",
    "\n",
    "print(\"✅ Loaded\", len(X), \"images.\")\n"
   ]
  },
  {
   "cell_type": "code",
   "execution_count": 9,
   "id": "707ffc76-1c2c-4411-9712-b8921295360b",
   "metadata": {},
   "outputs": [
    {
     "name": "stdout",
     "output_type": "stream",
     "text": [
      "✅ SVM model trained.\n"
     ]
    }
   ],
   "source": [
    "from sklearn.svm import SVC\n",
    "from sklearn.model_selection import train_test_split\n",
    "\n",
    "# Split data\n",
    "X_train, X_test, y_train, y_test = train_test_split(X, y, test_size=0.2, random_state=42)\n",
    "\n",
    "# Train SVM\n",
    "model = SVC(kernel='linear')\n",
    "model.fit(X_train, y_train)\n",
    "\n",
    "print(\"✅ SVM model trained.\")\n"
   ]
  },
  {
   "cell_type": "code",
   "execution_count": 10,
   "id": "164bf304-6211-4651-bb4b-1037ba647ab3",
   "metadata": {},
   "outputs": [
    {
     "name": "stdout",
     "output_type": "stream",
     "text": [
      "🎯 Accuracy: 0.562962962962963\n",
      "              precision    recall  f1-score   support\n",
      "\n",
      "        cats       0.57      0.60      0.59       209\n",
      "        dogs       0.55      0.52      0.54       196\n",
      "\n",
      "    accuracy                           0.56       405\n",
      "   macro avg       0.56      0.56      0.56       405\n",
      "weighted avg       0.56      0.56      0.56       405\n",
      "\n"
     ]
    }
   ],
   "source": [
    "from sklearn.metrics import accuracy_score, classification_report\n",
    "\n",
    "y_pred = model.predict(X_test)\n",
    "\n",
    "print(\"🎯 Accuracy:\", accuracy_score(y_test, y_pred))\n",
    "print(classification_report(y_test, y_pred, target_names=categories))\n"
   ]
  },
  {
   "cell_type": "code",
   "execution_count": 11,
   "id": "96a10c5f-a648-4b6c-b502-c4dace18bcbc",
   "metadata": {},
   "outputs": [
    {
     "name": "stdout",
     "output_type": "stream",
     "text": [
      "🧠 Model saved as 'svm_cat_dog_model.pkl'\n"
     ]
    }
   ],
   "source": [
    "import joblib\n",
    "joblib.dump(model, \"svm_cat_dog_model.pkl\")\n",
    "print(\"🧠 Model saved as 'svm_cat_dog_model.pkl'\")\n"
   ]
  },
  {
   "cell_type": "code",
   "execution_count": null,
   "id": "8eb09d93-6e8e-4899-a6bf-e6a04b4e6e23",
   "metadata": {},
   "outputs": [],
   "source": []
  }
 ],
 "metadata": {
  "kernelspec": {
   "display_name": "Python 3 (ipykernel)",
   "language": "python",
   "name": "python3"
  },
  "language_info": {
   "codemirror_mode": {
    "name": "ipython",
    "version": 3
   },
   "file_extension": ".py",
   "mimetype": "text/x-python",
   "name": "python",
   "nbconvert_exporter": "python",
   "pygments_lexer": "ipython3",
   "version": "3.11.7"
  }
 },
 "nbformat": 4,
 "nbformat_minor": 5
}
