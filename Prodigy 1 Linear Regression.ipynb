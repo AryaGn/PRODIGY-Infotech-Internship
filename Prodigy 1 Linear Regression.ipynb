{
 "cells": [
  {
   "cell_type": "code",
   "execution_count": 11,
   "id": "c8b047e8-b606-4c07-8a25-ff81005a24d4",
   "metadata": {},
   "outputs": [
    {
     "name": "stdout",
     "output_type": "stream",
     "text": [
      "Sample Data:\n",
      "    area  bedrooms  bathrooms     price\n",
      "0  7420         4          2  13300000\n",
      "1  8960         4          4  12250000\n",
      "2  9960         3          2  12250000\n",
      "3  7500         4          2  12215000\n",
      "4  7420         4          1  11410000\n",
      "\n",
      "Model Evaluation:\n",
      "Mean Squared Error: 2750040479309.05\n",
      "R² Score: 0.4559\n",
      "\n",
      "Model Coefficients:\n",
      "Square Footage (area): 345.47\n",
      "Bedrooms: 360197.65\n",
      "Bathrooms: 1422319.66\n",
      "Intercept: 59485.38\n"
     ]
    }
   ],
   "source": [
    "import pandas as pd\n",
    "from sklearn.model_selection import train_test_split\n",
    "from sklearn.linear_model import LinearRegression\n",
    "from sklearn.metrics import mean_squared_error, r2_score\n",
    "\n",
    "data = pd.read_csv('Housing.csv')\n",
    "\n",
    "print(\"Sample Data:\\n\", data[['area', 'bedrooms', 'bathrooms', 'price']].head())\n",
    "\n",
    "\n",
    "X = data[['area', 'bedrooms', 'bathrooms']]\n",
    "y = data['price']\n",
    "\n",
    "X = X.fillna(X.mean())\n",
    "y = y.fillna(y.mean())\n",
    "\n",
    "\n",
    "X_train, X_test, y_train, y_test = train_test_split(X, y, test_size=0.2, random_state=42)\n",
    "\n",
    "model = LinearRegression()\n",
    "model.fit(X_train, y_train)\n",
    "\n",
    "y_pred = model.predict(X_test)\n",
    "mse = mean_squared_error(y_test, y_pred)\n",
    "r2 = r2_score(y_test, y_pred)\n",
    "\n",
    "print(\"\\nModel Evaluation:\")\n",
    "print(f\"Mean Squared Error: {mse:.2f}\")\n",
    "print(f\"R² Score: {r2:.4f}\")\n",
    "\n",
    "print(\"\\nModel Coefficients:\")\n",
    "print(f\"Square Footage (area): {model.coef_[0]:.2f}\")\n",
    "print(f\"Bedrooms: {model.coef_[1]:.2f}\")\n",
    "print(f\"Bathrooms: {model.coef_[2]:.2f}\")\n",
    "print(f\"Intercept: {model.intercept_:.2f}\")\n",
    "\n"
   ]
  },
  {
   "cell_type": "code",
   "execution_count": null,
   "id": "0a18b8e9-d3ea-42ba-bf60-e92d1a7c2f26",
   "metadata": {},
   "outputs": [],
   "source": []
  }
 ],
 "metadata": {
  "kernelspec": {
   "display_name": "Python 3 (ipykernel)",
   "language": "python",
   "name": "python3"
  },
  "language_info": {
   "codemirror_mode": {
    "name": "ipython",
    "version": 3
   },
   "file_extension": ".py",
   "mimetype": "text/x-python",
   "name": "python",
   "nbconvert_exporter": "python",
   "pygments_lexer": "ipython3",
   "version": "3.11.7"
  }
 },
 "nbformat": 4,
 "nbformat_minor": 5
}
